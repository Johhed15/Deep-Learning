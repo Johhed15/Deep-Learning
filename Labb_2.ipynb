{
  "nbformat": 4,
  "nbformat_minor": 0,
  "metadata": {
    "colab": {
      "provenance": [],
      "toc_visible": true,
      "gpuType": "T4"
    },
    "kernelspec": {
      "name": "python3",
      "display_name": "Python 3"
    },
    "language_info": {
      "name": "python"
    },
    "accelerator": "GPU",
    "gpuClass": "standard"
  },
  "cells": [
    {
      "cell_type": "markdown",
      "source": [
        "**Labb 2**\n",
        "\n",
        "Johannes Hedström\n"
      ],
      "metadata": {
        "id": "8DBbe8Yxa2xG"
      }
    },
    {
      "cell_type": "markdown",
      "source": [
        "# DEL A"
      ],
      "metadata": {
        "id": "YD4lt8N8ypVL"
      }
    },
    {
      "cell_type": "code",
      "source": [
        "# Import needed libraries\n",
        "import tensorflow as tf\n",
        "print('TensorFlow version:', tf.__version__)\n",
        "\n",
        "# from tensorflow import keras\n",
        "# from tensorflow.keras import layers\n",
        "\n",
        "from tensorflow.keras.models import Sequential\n",
        "from tensorflow.keras.layers import Dense, Flatten, Conv2D,MaxPooling2D,Dropout\n",
        "from tensorflow.keras.utils  import to_categorical\n",
        "\n",
        "#print('Keras version:',tf.keras.__version__)\n",
        "\n",
        "# Helper libraries\n",
        "import numpy as np\n",
        "import sklearn\n",
        "from   sklearn.model_selection import train_test_split\n",
        "\n",
        "# Matlab plotting\n",
        "import matplotlib\n",
        "import matplotlib.pyplot as plt\n",
        "\n"
      ],
      "metadata": {
        "colab": {
          "base_uri": "https://localhost:8080/"
        },
        "id": "IEWd653lbq3I",
        "outputId": "609e0ea6-3f01-4821-cfea-d15aa5666ef0"
      },
      "execution_count": null,
      "outputs": [
        {
          "output_type": "stream",
          "name": "stdout",
          "text": [
            "TensorFlow version: 2.12.0\n"
          ]
        }
      ]
    },
    {
      "cell_type": "code",
      "source": [
        "# Get Fashion-MNIST training and test data from Keras database (https://keras.io/datasets/)\n",
        "(train_images0, train_labels0), (test_images, test_labels) = tf.keras.datasets.fashion_mnist.load_data()\n",
        "\n",
        "# Define labels\n",
        "class_names = ['T-shirt/top', 'Trouser', 'Pullover', 'Dress', 'Coat',\n",
        "               'Sandal', 'Shirt', 'Sneaker', 'Bag', 'Ankle boot']\n",
        "\n",
        "# Split the training set into a training and a validation set (20% is validation)\n",
        "train_images, val_images, train_labels, val_labels = train_test_split(train_images0, train_labels0, test_size=0.20)\n",
        "\n",
        "train_images = np.expand_dims(train_images, -1)\n",
        "val_images = np.expand_dims(val_images, -1)\n",
        "test_images = np.expand_dims(test_images, -1)\n",
        "\n",
        "# Normalize the images.\n",
        "train_images = (train_images - np.min(train_images)) / (np.max(train_images) - np.min(train_images))\n",
        "test_images = (test_images - np.min(test_images)) / (np.max(test_images) - np.min(test_images))\n",
        "val_images = (val_images - np.min(val_images)) / (np.max(val_images) - np.min(val_images))\n"
      ],
      "metadata": {
        "id": "Or-xt6owbsQB",
        "colab": {
          "base_uri": "https://localhost:8080/"
        },
        "outputId": "82a5087a-392e-4c5f-fc79-23d892097bab"
      },
      "execution_count": null,
      "outputs": [
        {
          "output_type": "stream",
          "name": "stdout",
          "text": [
            "Downloading data from https://storage.googleapis.com/tensorflow/tf-keras-datasets/train-labels-idx1-ubyte.gz\n",
            "29515/29515 [==============================] - 0s 0us/step\n",
            "Downloading data from https://storage.googleapis.com/tensorflow/tf-keras-datasets/train-images-idx3-ubyte.gz\n",
            "26421880/26421880 [==============================] - 1s 0us/step\n",
            "Downloading data from https://storage.googleapis.com/tensorflow/tf-keras-datasets/t10k-labels-idx1-ubyte.gz\n",
            "5148/5148 [==============================] - 0s 0us/step\n",
            "Downloading data from https://storage.googleapis.com/tensorflow/tf-keras-datasets/t10k-images-idx3-ubyte.gz\n",
            "4422102/4422102 [==============================] - 1s 0us/step\n"
          ]
        }
      ]
    },
    {
      "cell_type": "code",
      "source": [
        "# Define an in-stream transform (gray2color, resize)\n",
        "def img_transform(images):\n",
        "  images = tf.image.grayscale_to_rgb(tf.convert_to_tensor(images))\n",
        "  images = tf.image.resize_with_pad(images, 32, 32, antialias=False)\n",
        "\n",
        "\n",
        "  return images\n",
        "\n",
        "# Ändrar dimensionerna på datamaterialen\n",
        "train_images=img_transform(train_images)\n",
        "val_images=img_transform(val_images)\n",
        "test_images=img_transform(test_images)"
      ],
      "metadata": {
        "id": "wbbWYm0Vgir7"
      },
      "execution_count": null,
      "outputs": []
    },
    {
      "cell_type": "code",
      "source": [
        "# Kollar så att det blir 32x32x3\n",
        "print(train_images.shape)\n",
        "print(val_images.shape)\n",
        "print(test_images.shape)"
      ],
      "metadata": {
        "colab": {
          "base_uri": "https://localhost:8080/"
        },
        "id": "FR8LvVgmkxH8",
        "outputId": "756530b3-5411-48b1-a520-c0088d98f9fa"
      },
      "execution_count": null,
      "outputs": [
        {
          "output_type": "stream",
          "name": "stdout",
          "text": [
            "(48000, 32, 32, 3)\n",
            "(12000, 32, 32, 3)\n",
            "(10000, 32, 32, 3)\n"
          ]
        }
      ]
    },
    {
      "cell_type": "markdown",
      "source": [
        "Dimensionerna ser nu ut att vara tillräckligt stora för VGG16 som kräver minst 32x32x16"
      ],
      "metadata": {
        "id": "3N2GHSsdooH-"
      }
    },
    {
      "cell_type": "code",
      "source": [
        "# As these are images (32x32x3) it can be interesting to plot some as images\n",
        "image_index = [42, 789] # \"Random\" images to print\n",
        "\n",
        "for index in image_index:\n",
        "  print( 'Label:', class_names[train_labels[index]])\n",
        "  plt.figure()\n",
        "  plt.imshow(train_images[index])\n",
        "  plt.grid(False)\n",
        "  plt.show(block=False)"
      ],
      "metadata": {
        "colab": {
          "base_uri": "https://localhost:8080/",
          "height": 878
        },
        "id": "_tTM8xILkxOk",
        "outputId": "140854a6-df21-40c4-b7ac-4785418331a3"
      },
      "execution_count": null,
      "outputs": [
        {
          "output_type": "stream",
          "name": "stdout",
          "text": [
            "Label: Dress\n"
          ]
        },
        {
          "output_type": "display_data",
          "data": {
            "text/plain": [
              "<Figure size 640x480 with 1 Axes>"
            ],
            "image/png": "[encoded data removed]"
          },
          "metadata": {}
        },
        {
          "output_type": "stream",
          "name": "stdout",
          "text": [
            "Label: T-shirt/top\n"
          ]
        },
        {
          "output_type": "display_data",
          "data": {
            "text/plain": [
              "<Figure size 640x480 with 1 Axes>"
            ],
            "image/png": "[encoded data removed]"
          },
          "metadata": {}
        }
      ]
    },
    {
      "cell_type": "markdown",
      "source": [
        "Bilderna ser bra ut"
      ],
      "metadata": {
        "id": "PJ8mgO36ov74"
      }
    },
    {
      "cell_type": "markdown",
      "source": [
        "Nedan läser jag in VGG16 från Tensorflow och tar vikter så den inte behöver tränas, sedan så väljer jag ut alla lager fram till block3_pool som inte ska tränas utan behålla vikterna."
      ],
      "metadata": {
        "id": "cnWVWDS8uD7U"
      }
    },
    {
      "cell_type": "code",
      "source": [
        "input_shape = test_images[0].shape\n",
        "# VGG16 från keras\n",
        "vgg_model = tf.keras.applications.vgg16.VGG16(include_top=False, weights=\"imagenet\", input_shape=input_shape,classes=10)\n",
        "vgg_model.summary()"
      ],
      "metadata": {
        "colab": {
          "base_uri": "https://localhost:8080/"
        },
        "id": "s5qFjuqJMUUM",
        "outputId": "6b35aaf3-f2a2-409d-b200-164d15b84c65"
      },
      "execution_count": null,
      "outputs": [
        {
          "output_type": "stream",
          "name": "stdout",
          "text": [
            "Model: \"vgg16\"\n",
            "_________________________________________________________________\n",
            " Layer (type)                Output Shape              Param #   \n",
            "=================================================================\n",
            " input_11 (InputLayer)       [(None, 32, 32, 3)]       0         \n",
            "                                                                 \n",
            " block1_conv1 (Conv2D)       (None, 32, 32, 64)        1792      \n",
            "                                                                 \n",
            " block1_conv2 (Conv2D)       (None, 32, 32, 64)        36928     \n",
            "                                                                 \n",
            " block1_pool (MaxPooling2D)  (None, 16, 16, 64)        0         \n",
            "                                                                 \n",
            " block2_conv1 (Conv2D)       (None, 16, 16, 128)       73856     \n",
            "                                                                 \n",
            " block2_conv2 (Conv2D)       (None, 16, 16, 128)       147584    \n",
            "                                                                 \n",
            " block2_pool (MaxPooling2D)  (None, 8, 8, 128)         0         \n",
            "                                                                 \n",
            " block3_conv1 (Conv2D)       (None, 8, 8, 256)         295168    \n",
            "                                                                 \n",
            " block3_conv2 (Conv2D)       (None, 8, 8, 256)         590080    \n",
            "                                                                 \n",
            " block3_conv3 (Conv2D)       (None, 8, 8, 256)         590080    \n",
            "                                                                 \n",
            " block3_pool (MaxPooling2D)  (None, 4, 4, 256)         0         \n",
            "                                                                 \n",
            " block4_conv1 (Conv2D)       (None, 4, 4, 512)         1180160   \n",
            "                                                                 \n",
            " block4_conv2 (Conv2D)       (None, 4, 4, 512)         2359808   \n",
            "                                                                 \n",
            " block4_conv3 (Conv2D)       (None, 4, 4, 512)         2359808   \n",
            "                                                                 \n",
            " block4_pool (MaxPooling2D)  (None, 2, 2, 512)         0         \n",
            "                                                                 \n",
            " block5_conv1 (Conv2D)       (None, 2, 2, 512)         2359808   \n",
            "                                                                 \n",
            " block5_conv2 (Conv2D)       (None, 2, 2, 512)         2359808   \n",
            "                                                                 \n",
            " block5_conv3 (Conv2D)       (None, 2, 2, 512)         2359808   \n",
            "                                                                 \n",
            " block5_pool (MaxPooling2D)  (None, 1, 1, 512)         0         \n",
            "                                                                 \n",
            "=================================================================\n",
            "Total params: 14,714,688\n",
            "Trainable params: 14,714,688\n",
            "Non-trainable params: 0\n",
            "_________________________________________________________________\n"
          ]
        }
      ]
    },
    {
      "cell_type": "code",
      "execution_count": null,
      "metadata": {
        "colab": {
          "base_uri": "https://localhost:8080/"
        },
        "id": "_AumCEOta0Li",
        "outputId": "4bef38a4-89fc-49c7-9c34-64e8b3133497"
      },
      "outputs": [
        {
          "output_type": "stream",
          "name": "stdout",
          "text": [
            "Model: \"model_8\"\n",
            "_________________________________________________________________\n",
            " Layer (type)                Output Shape              Param #   \n",
            "=================================================================\n",
            " input_14 (InputLayer)       [(None, 32, 32, 3)]       0         \n",
            "                                                                 \n",
            " block1_conv1 (Conv2D)       (None, 32, 32, 64)        1792      \n",
            "                                                                 \n",
            " block1_conv2 (Conv2D)       (None, 32, 32, 64)        36928     \n",
            "                                                                 \n",
            " block1_pool (MaxPooling2D)  (None, 16, 16, 64)        0         \n",
            "                                                                 \n",
            " block2_conv1 (Conv2D)       (None, 16, 16, 128)       73856     \n",
            "                                                                 \n",
            " block2_conv2 (Conv2D)       (None, 16, 16, 128)       147584    \n",
            "                                                                 \n",
            " block2_pool (MaxPooling2D)  (None, 8, 8, 128)         0         \n",
            "                                                                 \n",
            " block3_conv1 (Conv2D)       (None, 8, 8, 256)         295168    \n",
            "                                                                 \n",
            " block3_conv2 (Conv2D)       (None, 8, 8, 256)         590080    \n",
            "                                                                 \n",
            " block3_conv3 (Conv2D)       (None, 8, 8, 256)         590080    \n",
            "                                                                 \n",
            " block3_pool (MaxPooling2D)  (None, 4, 4, 256)         0         \n",
            "                                                                 \n",
            " batch_normalization_29 (Bat  (None, 4, 4, 256)        1024      \n",
            " chNormalization)                                                \n",
            "                                                                 \n",
            " dropout_24 (Dropout)        (None, 4, 4, 256)         0         \n",
            "                                                                 \n",
            " conv2d_28 (Conv2D)          (None, 4, 4, 96)          614496    \n",
            "                                                                 \n",
            " flatten_23 (Flatten)        (None, 1536)              0         \n",
            "                                                                 \n",
            " dense_45 (Dense)            (None, 64)                98368     \n",
            "                                                                 \n",
            " dense_46 (Dense)            (None, 10)                650       \n",
            "                                                                 \n",
            "=================================================================\n",
            "Total params: 2,450,026\n",
            "Trainable params: 713,514\n",
            "Non-trainable params: 1,736,512\n",
            "_________________________________________________________________\n"
          ]
        }
      ],
      "source": [
        "\n",
        "\n",
        "# Tar alla lager fram till block3_pool från VGG16 och fryser deras vikter med trainable=FALSE\n",
        "# Skapar en ny modell som kopierar vgg_modell fram till lager 'block3_pool'\n",
        "inputs = vgg_model.inputs\n",
        "my_model = vgg_model.get_layer('block3_pool').output\n",
        "\n",
        "# Fryser alla lagren i modellen\n",
        "#for layer in my_model.layers:\n",
        "#  layer.trainable = False\n",
        "\n",
        "# Lägger till egna lager som ska tränas\n",
        "my_model = tf.keras.layers.BatchNormalization(axis=-1)(my_model) # normaliserar inputs\n",
        "my_model = Dropout(0.2)(my_model)  # Dropout på 20% av noderna på faltningslagret som skapas nedan\n",
        "my_model = Conv2D(filters=96,\n",
        "                        kernel_size=5,\n",
        "                        activation='relu',\n",
        "                        padding='same')(my_model)\n",
        "\n",
        "my_model=(tf.keras.layers.Flatten())(my_model)  # Ser till så lagren är 'full connected'\n",
        "my_model=(tf.keras.layers.Dense(64,activation='relu'))(my_model)  # tagit bort ett lager och minskat filter /noder i dom jag lagt in som är kvar\n",
        "outputs=(Dense(units=10, activation='softmax'))(my_model) #sista lagret\n",
        "my_model = tf.keras.models.Model(inputs=inputs, outputs=outputs)\n",
        "# Freeze the layers\n",
        "for layer in my_model.layers[:-6]:\n",
        "    layer.trainable = False\n",
        "\n",
        "\n",
        "\n",
        "my_model.summary()"
      ]
    },
    {
      "cell_type": "markdown",
      "source": [
        "Det är 1.7 miljoner parametrar som har frysta vikter och kommer därav inte att tränas.\n",
        "Totala antalet parametrar i modellen är ca 2.4 miljoner och då ska alltså mer än 700 000 som tränas.\n",
        "\n",
        "Lagren jag lagt in kommer efter block3_conv3 i listan ovan och har kommenterat mer tydligt i koden."
      ],
      "metadata": {
        "id": "JyWjNkKBxKqz"
      }
    },
    {
      "cell_type": "code",
      "source": [
        "# compilar modellen med adam som optimizer och learning rate på 0.001\n",
        "my_model.compile(\n",
        "  optimizer=tf.keras.optimizers.Adam(learning_rate=0.001),\n",
        "  loss='categorical_crossentropy',\n",
        "  metrics=['categorical_accuracy'],\n",
        "\n",
        ")\n"
      ],
      "metadata": {
        "id": "bkNDB31iyGKG"
      },
      "execution_count": null,
      "outputs": []
    },
    {
      "cell_type": "code",
      "source": [
        "\"\"\"\n",
        "### Importerar earlystopping och skapar earlystop för att stanna träningen när överanpassning sker och låter den gå 3 epoker till för att tillåta att några steg i \"fel\" riktning\n",
        "\"\"\"\n",
        "from keras.callbacks import EarlyStopping\n",
        "earlystop= EarlyStopping(monitor='val_loss', patience=3, restore_best_weights = True)\n"
      ],
      "metadata": {
        "id": "1kScerH5LhSG"
      },
      "execution_count": null,
      "outputs": []
    },
    {
      "cell_type": "code",
      "source": [
        "\n",
        "\n",
        "epochs = 50 # Antal epoker som kan köras\n",
        "batch_size = 96 # batchstoleken\n",
        "\n",
        "# Train the model.\n",
        "history = my_model.fit(\n",
        "  train_images, to_categorical(train_labels),\n",
        "  epochs=epochs,\n",
        "  batch_size=batch_size,\n",
        "  verbose = 1,\n",
        "  validation_data=(val_images, to_categorical(val_labels)),\n",
        "  callbacks=[earlystop] # Lägger in earlystopping i träningen\n",
        ")\n",
        "\n",
        "# Evaluate the model.\n",
        "test_loss, test_acc = my_model.evaluate(test_images,to_categorical(test_labels))\n",
        "print('Test accuracy: %.3f' % test_acc)"
      ],
      "metadata": {
        "id": "jdweT3vekQwZ",
        "colab": {
          "base_uri": "https://localhost:8080/"
        },
        "outputId": "eb09e5e4-4e5a-40e3-cc29-ddae7f276cd3"
      },
      "execution_count": null,
      "outputs": [
        {
          "output_type": "stream",
          "name": "stdout",
          "text": [
            "Epoch 1/50\n",
            "500/500 [==============================] - 8s 13ms/step - loss: 4.6857 - categorical_accuracy: 0.4875 - val_loss: 1.0251 - val_categorical_accuracy: 0.6863\n",
            "Epoch 2/50\n",
            "500/500 [==============================] - 6s 12ms/step - loss: 0.9623 - categorical_accuracy: 0.6924 - val_loss: 0.8511 - val_categorical_accuracy: 0.7047\n",
            "Epoch 3/50\n",
            "500/500 [==============================] - 7s 13ms/step - loss: 0.7540 - categorical_accuracy: 0.7510 - val_loss: 0.6757 - val_categorical_accuracy: 0.7833\n",
            "Epoch 4/50\n",
            "500/500 [==============================] - 6s 12ms/step - loss: 0.5218 - categorical_accuracy: 0.8490 - val_loss: 0.5007 - val_categorical_accuracy: 0.8417\n",
            "Epoch 5/50\n",
            "500/500 [==============================] - 6s 12ms/step - loss: 0.4277 - categorical_accuracy: 0.8758 - val_loss: 0.4045 - val_categorical_accuracy: 0.8957\n",
            "Epoch 6/50\n",
            "500/500 [==============================] - 7s 13ms/step - loss: 0.3424 - categorical_accuracy: 0.8973 - val_loss: 0.3004 - val_categorical_accuracy: 0.9051\n",
            "Epoch 7/50\n",
            "500/500 [==============================] - 7s 13ms/step - loss: 0.2783 - categorical_accuracy: 0.9087 - val_loss: 0.3092 - val_categorical_accuracy: 0.9082\n",
            "Epoch 8/50\n",
            "500/500 [==============================] - 6s 12ms/step - loss: 0.2567 - categorical_accuracy: 0.9121 - val_loss: 0.3261 - val_categorical_accuracy: 0.9038\n",
            "Epoch 9/50\n",
            "500/500 [==============================] - 6s 12ms/step - loss: 0.2398 - categorical_accuracy: 0.9181 - val_loss: 0.2846 - val_categorical_accuracy: 0.9101\n",
            "Epoch 10/50\n",
            "500/500 [==============================] - 6s 12ms/step - loss: 0.2299 - categorical_accuracy: 0.9222 - val_loss: 0.2801 - val_categorical_accuracy: 0.9157\n",
            "Epoch 11/50\n",
            "500/500 [==============================] - 7s 13ms/step - loss: 0.2258 - categorical_accuracy: 0.9214 - val_loss: 0.2711 - val_categorical_accuracy: 0.9102\n",
            "Epoch 12/50\n",
            "500/500 [==============================] - 6s 13ms/step - loss: 0.2210 - categorical_accuracy: 0.9240 - val_loss: 0.2688 - val_categorical_accuracy: 0.9177\n",
            "Epoch 13/50\n",
            "500/500 [==============================] - 7s 13ms/step - loss: 0.2136 - categorical_accuracy: 0.9258 - val_loss: 0.2759 - val_categorical_accuracy: 0.9086\n",
            "Epoch 14/50\n",
            "500/500 [==============================] - 6s 13ms/step - loss: 0.2079 - categorical_accuracy: 0.9287 - val_loss: 0.2301 - val_categorical_accuracy: 0.9197\n",
            "Epoch 15/50\n",
            "500/500 [==============================] - 6s 12ms/step - loss: 0.1978 - categorical_accuracy: 0.9321 - val_loss: 0.2557 - val_categorical_accuracy: 0.9158\n",
            "Epoch 16/50\n",
            "500/500 [==============================] - 6s 12ms/step - loss: 0.1973 - categorical_accuracy: 0.9312 - val_loss: 0.2467 - val_categorical_accuracy: 0.9204\n",
            "Epoch 17/50\n",
            "500/500 [==============================] - 6s 12ms/step - loss: 0.1978 - categorical_accuracy: 0.9319 - val_loss: 0.2430 - val_categorical_accuracy: 0.9194\n",
            "313/313 [==============================] - 2s 5ms/step - loss: 0.2384 - categorical_accuracy: 0.9211\n",
            "Test accuracy: 0.921\n"
          ]
        }
      ]
    },
    {
      "cell_type": "markdown",
      "source": [
        "Modellen får en testnoggrannhet på 92.1%  och stannar efter 17 epoker då earlystopping stoppar träningen för att förhindra ytterligare överanpassning.\n",
        "\n",
        "\n",
        "\n",
        "\n"
      ],
      "metadata": {
        "id": "93ZpZzKM9Z2P"
      }
    },
    {
      "cell_type": "markdown",
      "source": [
        "# DEL B\n",
        "Lagt in träning på ca 66% av lagren från VGG16"
      ],
      "metadata": {
        "id": "Qj9apwtNyhmm"
      }
    },
    {
      "cell_type": "code",
      "source": [
        "input_shape = test_images[0].shape\n",
        "# VGG16 från keras\n",
        "vgg_model = tf.keras.applications.vgg16.VGG16(include_top=False, weights=\"imagenet\", input_shape=input_shape,classes=10)\n",
        "\n",
        "# Tar alla lager fram till block3_pool från VGG16 och fryser deras vikter med trainable=FALSE\n",
        "\n",
        "# Tar alla lager fram till block3_pool från VGG16 och fryser deras vikter med trainable=FALSE\n",
        "# Skapar en ny modell som kopierar vgg_modell fram till lager 'block3_pool'\n",
        "inputs = vgg_model.inputs\n",
        "my_model = vgg_model.get_layer('block3_pool').output\n",
        "\n",
        "# Fryser alla lagren i modellen\n",
        "#for layer in my_model.layers:\n",
        "#  layer.trainable = False\n",
        "\n",
        "# Lägger till egna lager som ska tränas\n",
        "my_model = tf.keras.layers.BatchNormalization(axis=-1)(my_model) # normaliserar inputs\n",
        "my_model = Dropout(0.2)(my_model)  # Dropout på 20% av noderna på faltningslagret som skapas nedan\n",
        "my_model = Conv2D(filters=96,\n",
        "                        kernel_size=5,\n",
        "                        activation='relu',\n",
        "                        padding='same')(my_model)\n",
        "\n",
        "my_model=(tf.keras.layers.Flatten())(my_model)  # Ser till så lagren är 'full connected'\n",
        "my_model=(tf.keras.layers.Dense(64,activation='relu'))(my_model)  # tagit bort ett lager och minskat filter /noder i dom jag lagt in som är kvar\n",
        "outputs=(Dense(units=10, activation='softmax'))(my_model) #sista lagret\n",
        "my_model = tf.keras.models.Model(inputs=inputs, outputs=outputs)\n",
        "\n",
        "# Gör så att det går att träna lagren\n",
        "for layer in my_model.layers:\n",
        "  layer.trainable = True\n",
        "\n",
        "# Freeze the layers\n",
        "for layer in my_model.layers[:-9]:\n",
        "    layer.trainable = False\n",
        "\n",
        "\n",
        "my_model.summary()"
      ],
      "metadata": {
        "id": "v4cMlFLmyvy8",
        "colab": {
          "base_uri": "https://localhost:8080/"
        },
        "outputId": "542e3c23-7461-4a98-edf7-ae3542416af2"
      },
      "execution_count": null,
      "outputs": [
        {
          "output_type": "stream",
          "name": "stdout",
          "text": [
            "Model: \"model_13\"\n",
            "_________________________________________________________________\n",
            " Layer (type)                Output Shape              Param #   \n",
            "=================================================================\n",
            " input_19 (InputLayer)       [(None, 32, 32, 3)]       0         \n",
            "                                                                 \n",
            " block1_conv1 (Conv2D)       (None, 32, 32, 64)        1792      \n",
            "                                                                 \n",
            " block1_conv2 (Conv2D)       (None, 32, 32, 64)        36928     \n",
            "                                                                 \n",
            " block1_pool (MaxPooling2D)  (None, 16, 16, 64)        0         \n",
            "                                                                 \n",
            " block2_conv1 (Conv2D)       (None, 16, 16, 128)       73856     \n",
            "                                                                 \n",
            " block2_conv2 (Conv2D)       (None, 16, 16, 128)       147584    \n",
            "                                                                 \n",
            " block2_pool (MaxPooling2D)  (None, 8, 8, 128)         0         \n",
            "                                                                 \n",
            " block3_conv1 (Conv2D)       (None, 8, 8, 256)         295168    \n",
            "                                                                 \n",
            " block3_conv2 (Conv2D)       (None, 8, 8, 256)         590080    \n",
            "                                                                 \n",
            " block3_conv3 (Conv2D)       (None, 8, 8, 256)         590080    \n",
            "                                                                 \n",
            " block3_pool (MaxPooling2D)  (None, 4, 4, 256)         0         \n",
            "                                                                 \n",
            " batch_normalization_34 (Bat  (None, 4, 4, 256)        1024      \n",
            " chNormalization)                                                \n",
            "                                                                 \n",
            " dropout_29 (Dropout)        (None, 4, 4, 256)         0         \n",
            "                                                                 \n",
            " conv2d_33 (Conv2D)          (None, 4, 4, 96)          614496    \n",
            "                                                                 \n",
            " flatten_28 (Flatten)        (None, 1536)              0         \n",
            "                                                                 \n",
            " dense_55 (Dense)            (None, 64)                98368     \n",
            "                                                                 \n",
            " dense_56 (Dense)            (None, 10)                650       \n",
            "                                                                 \n",
            "=================================================================\n",
            "Total params: 2,450,026\n",
            "Trainable params: 1,894,186\n",
            "Non-trainable params: 555,840\n",
            "_________________________________________________________________\n"
          ]
        }
      ]
    },
    {
      "cell_type": "markdown",
      "source": [
        "Nu ser vi att det är fler parametrar som ska tränas än tidigare då runt 30% av de frysta lagren nu också ska tränas, endast 555,840 av alla parametrar är frysta.\n",
        "\n"
      ],
      "metadata": {
        "id": "QlwyQmc52DmM"
      }
    },
    {
      "cell_type": "code",
      "source": [
        "my_model.compile(\n",
        "  optimizer=tf.keras.optimizers.Adam(learning_rate=0.0001), # ändrat inlärningstakten\n",
        "  loss='categorical_crossentropy',\n",
        "  metrics=['categorical_accuracy'],\n",
        "\n",
        ")\n",
        "\n",
        "\n",
        "epochs = 50 # Antal epoker som kan köras\n",
        "batch_size = 96 # batchstoleken\n",
        "\n",
        "# Train the model.\n",
        "history = my_model.fit(\n",
        "  train_images, to_categorical(train_labels),\n",
        "  epochs=epochs,\n",
        "  batch_size=batch_size,\n",
        "  verbose = 1,\n",
        "  validation_data=(val_images, to_categorical(val_labels)),\n",
        "  callbacks=[earlystop] # Lägger in earlystopping i träningen\n",
        ")\n",
        "\n",
        "# Evaluate the model.\n",
        "test_loss, test_acc = my_model.evaluate(test_images,to_categorical(test_labels))\n",
        "print('Test accuracy: %.3f' % test_acc)"
      ],
      "metadata": {
        "colab": {
          "base_uri": "https://localhost:8080/"
        },
        "id": "igY2U_aeAfu6",
        "outputId": "39851a08-a9f9-49ce-a125-9fd0c5d05d08"
      },
      "execution_count": null,
      "outputs": [
        {
          "output_type": "stream",
          "name": "stdout",
          "text": [
            "Epoch 1/50\n",
            "500/500 [==============================] - 11s 17ms/step - loss: 0.3410 - categorical_accuracy: 0.8795 - val_loss: 0.2601 - val_categorical_accuracy: 0.9067\n",
            "Epoch 2/50\n",
            "500/500 [==============================] - 8s 16ms/step - loss: 0.2237 - categorical_accuracy: 0.9189 - val_loss: 0.2337 - val_categorical_accuracy: 0.9159\n",
            "Epoch 3/50\n",
            "500/500 [==============================] - 8s 16ms/step - loss: 0.1871 - categorical_accuracy: 0.9313 - val_loss: 0.2133 - val_categorical_accuracy: 0.9224\n",
            "Epoch 4/50\n",
            "500/500 [==============================] - 8s 16ms/step - loss: 0.1613 - categorical_accuracy: 0.9408 - val_loss: 0.2081 - val_categorical_accuracy: 0.9237\n",
            "Epoch 5/50\n",
            "500/500 [==============================] - 8s 17ms/step - loss: 0.1390 - categorical_accuracy: 0.9492 - val_loss: 0.1977 - val_categorical_accuracy: 0.9283\n",
            "Epoch 6/50\n",
            "500/500 [==============================] - 9s 17ms/step - loss: 0.1222 - categorical_accuracy: 0.9548 - val_loss: 0.2231 - val_categorical_accuracy: 0.9237\n",
            "Epoch 7/50\n",
            "500/500 [==============================] - 8s 16ms/step - loss: 0.1033 - categorical_accuracy: 0.9629 - val_loss: 0.2010 - val_categorical_accuracy: 0.9313\n",
            "Epoch 8/50\n",
            "500/500 [==============================] - 8s 17ms/step - loss: 0.0896 - categorical_accuracy: 0.9672 - val_loss: 0.2065 - val_categorical_accuracy: 0.9263\n",
            "313/313 [==============================] - 2s 6ms/step - loss: 0.2044 - categorical_accuracy: 0.9267\n",
            "Test accuracy: 0.927\n"
          ]
        }
      ]
    },
    {
      "cell_type": "markdown",
      "source": [
        "Flärre epoker körs nu än tidigare 8 vs 17 och testnoggranheten har ökat från 92.1% till 92.7%.\n",
        "\n",
        "Så att träna fler vikter efter just detta datamaterial ger ett bättre resultat i slutändan."
      ],
      "metadata": {
        "id": "60nw67FfA15A"
      }
    },
    {
      "cell_type": "markdown",
      "source": [
        "# DEL X"
      ],
      "metadata": {
        "id": "ScVQb7sY3swJ"
      }
    },
    {
      "cell_type": "code",
      "source": [
        "# Ändrar så datat är rätt dimensioner\n",
        "train_images=tf.image.resize_with_pad(train_images, 72, 72, antialias=False)\n",
        "val_images=tf.image.resize_with_pad(val_images, 72, 72, antialias=False)\n",
        "test_images=tf.image.resize_with_pad(test_images, 72, 72, antialias=False)\n",
        "\n",
        "print(train_images.shape)\n",
        "print(val_images.shape)\n",
        "print(test_images.shape)"
      ],
      "metadata": {
        "id": "FUBsmxPB3zQy",
        "colab": {
          "base_uri": "https://localhost:8080/"
        },
        "outputId": "b9af56cd-6163-4cff-ef65-07090885f16f"
      },
      "execution_count": null,
      "outputs": [
        {
          "output_type": "stream",
          "name": "stdout",
          "text": [
            "(48000, 72, 72, 3)\n",
            "(12000, 72, 72, 3)\n",
            "(10000, 72, 72, 3)\n"
          ]
        }
      ]
    },
    {
      "cell_type": "markdown",
      "source": [
        "Datat har dimensionerats om rätt"
      ],
      "metadata": {
        "id": "C6RsFHy3RPUC"
      }
    },
    {
      "cell_type": "code",
      "source": [
        "image_index = [42, 789] # \"Random\" images to print\n",
        "\n",
        "for index in image_index:\n",
        "  print( 'Label:', class_names[train_labels[index]])\n",
        "  plt.figure()\n",
        "  plt.imshow(train_images[index])\n",
        "  plt.grid(False)\n",
        "  plt.show(block=False)"
      ],
      "metadata": {
        "colab": {
          "base_uri": "https://localhost:8080/",
          "height": 884
        },
        "id": "ge8LKUelRYRX",
        "outputId": "c41ae79a-d522-451d-aa9b-79490c59a7b8"
      },
      "execution_count": null,
      "outputs": [
        {
          "output_type": "stream",
          "name": "stdout",
          "text": [
            "Label: Coat\n"
          ]
        },
        {
          "output_type": "display_data",
          "data": {
            "text/plain": [
              "<Figure size 640x480 with 1 Axes>"
            ],
            "image/png": "[encoded data removed]"
          },
          "metadata": {}
        },
        {
          "output_type": "stream",
          "name": "stdout",
          "text": [
            "Label: Sneaker\n"
          ]
        },
        {
          "output_type": "display_data",
          "data": {
            "text/plain": [
              "<Figure size 640x480 with 1 Axes>"
            ],
            "image/png": "[encoded data removed]"
          },
          "metadata": {}
        }
      ]
    },
    {
      "cell_type": "markdown",
      "source": [
        "Bilderna ser bra ut"
      ],
      "metadata": {
        "id": "FQqjKcGnRd38"
      }
    },
    {
      "cell_type": "code",
      "source": [
        "input_shape = test_images[0].shape\n",
        "# Xception från keras\n",
        "Xception_model = tf.keras.applications.Xception(include_top=False, weights=\"imagenet\", input_shape=input_shape,classes=10)\n",
        "Xception_model.summary()"
      ],
      "metadata": {
        "colab": {
          "base_uri": "https://localhost:8080/"
        },
        "id": "ASzEJrmzF-96",
        "outputId": "68527799-0290-4ce5-b12b-65889745b470"
      },
      "execution_count": null,
      "outputs": [
        {
          "output_type": "stream",
          "name": "stdout",
          "text": [
            "Downloading data from https://storage.googleapis.com/tensorflow/keras-applications/xception/xception_weights_tf_dim_ordering_tf_kernels_notop.h5\n",
            "83683744/83683744 [==============================] - 3s 0us/step\n",
            "Model: \"xception\"\n",
            "__________________________________________________________________________________________________\n",
            " Layer (type)                   Output Shape         Param #     Connected to                     \n",
            "==================================================================================================\n",
            " input_1 (InputLayer)           [(None, 72, 72, 3)]  0           []                               \n",
            "                                                                                                  \n",
            " block1_conv1 (Conv2D)          (None, 35, 35, 32)   864         ['input_1[0][0]']                \n",
            "                                                                                                  \n",
            " block1_conv1_bn (BatchNormaliz  (None, 35, 35, 32)  128         ['block1_conv1[0][0]']           \n",
            " ation)                                                                                           \n",
            "                                                                                                  \n",
            " block1_conv1_act (Activation)  (None, 35, 35, 32)   0           ['block1_conv1_bn[0][0]']        \n",
            "                                                                                                  \n",
            " block1_conv2 (Conv2D)          (None, 33, 33, 64)   18432       ['block1_conv1_act[0][0]']       \n",
            "                                                                                                  \n",
            " block1_conv2_bn (BatchNormaliz  (None, 33, 33, 64)  256         ['block1_conv2[0][0]']           \n",
            " ation)                                                                                           \n",
            "                                                                                                  \n",
            " block1_conv2_act (Activation)  (None, 33, 33, 64)   0           ['block1_conv2_bn[0][0]']        \n",
            "                                                                                                  \n",
            " block2_sepconv1 (SeparableConv  (None, 33, 33, 128)  8768       ['block1_conv2_act[0][0]']       \n",
            " 2D)                                                                                              \n",
            "                                                                                                  \n",
            " block2_sepconv1_bn (BatchNorma  (None, 33, 33, 128)  512        ['block2_sepconv1[0][0]']        \n",
            " lization)                                                                                        \n",
            "                                                                                                  \n",
            " block2_sepconv2_act (Activatio  (None, 33, 33, 128)  0          ['block2_sepconv1_bn[0][0]']     \n",
            " n)                                                                                               \n",
            "                                                                                                  \n",
            " block2_sepconv2 (SeparableConv  (None, 33, 33, 128)  17536      ['block2_sepconv2_act[0][0]']    \n",
            " 2D)                                                                                              \n",
            "                                                                                                  \n",
            " block2_sepconv2_bn (BatchNorma  (None, 33, 33, 128)  512        ['block2_sepconv2[0][0]']        \n",
            " lization)                                                                                        \n",
            "                                                                                                  \n",
            " conv2d (Conv2D)                (None, 17, 17, 128)  8192        ['block1_conv2_act[0][0]']       \n",
            "                                                                                                  \n",
            " block2_pool (MaxPooling2D)     (None, 17, 17, 128)  0           ['block2_sepconv2_bn[0][0]']     \n",
            "                                                                                                  \n",
            " batch_normalization (BatchNorm  (None, 17, 17, 128)  512        ['conv2d[0][0]']                 \n",
            " alization)                                                                                       \n",
            "                                                                                                  \n",
            " add (Add)                      (None, 17, 17, 128)  0           ['block2_pool[0][0]',            \n",
            "                                                                  'batch_normalization[0][0]']    \n",
            "                                                                                                  \n",
            " block3_sepconv1_act (Activatio  (None, 17, 17, 128)  0          ['add[0][0]']                    \n",
            " n)                                                                                               \n",
            "                                                                                                  \n",
            " block3_sepconv1 (SeparableConv  (None, 17, 17, 256)  33920      ['block3_sepconv1_act[0][0]']    \n",
            " 2D)                                                                                              \n",
            "                                                                                                  \n",
            " block3_sepconv1_bn (BatchNorma  (None, 17, 17, 256)  1024       ['block3_sepconv1[0][0]']        \n",
            " lization)                                                                                        \n",
            "                                                                                                  \n",
            " block3_sepconv2_act (Activatio  (None, 17, 17, 256)  0          ['block3_sepconv1_bn[0][0]']     \n",
            " n)                                                                                               \n",
            "                                                                                                  \n",
            " block3_sepconv2 (SeparableConv  (None, 17, 17, 256)  67840      ['block3_sepconv2_act[0][0]']    \n",
            " 2D)                                                                                              \n",
            "                                                                                                  \n",
            " block3_sepconv2_bn (BatchNorma  (None, 17, 17, 256)  1024       ['block3_sepconv2[0][0]']        \n",
            " lization)                                                                                        \n",
            "                                                                                                  \n",
            " conv2d_1 (Conv2D)              (None, 9, 9, 256)    32768       ['add[0][0]']                    \n",
            "                                                                                                  \n",
            " block3_pool (MaxPooling2D)     (None, 9, 9, 256)    0           ['block3_sepconv2_bn[0][0]']     \n",
            "                                                                                                  \n",
            " batch_normalization_1 (BatchNo  (None, 9, 9, 256)   1024        ['conv2d_1[0][0]']               \n",
            " rmalization)                                                                                     \n",
            "                                                                                                  \n",
            " add_1 (Add)                    (None, 9, 9, 256)    0           ['block3_pool[0][0]',            \n",
            "                                                                  'batch_normalization_1[0][0]']  \n",
            "                                                                                                  \n",
            " block4_sepconv1_act (Activatio  (None, 9, 9, 256)   0           ['add_1[0][0]']                  \n",
            " n)                                                                                               \n",
            "                                                                                                  \n",
            " block4_sepconv1 (SeparableConv  (None, 9, 9, 728)   188672      ['block4_sepconv1_act[0][0]']    \n",
            " 2D)                                                                                              \n",
            "                                                                                                  \n",
            " block4_sepconv1_bn (BatchNorma  (None, 9, 9, 728)   2912        ['block4_sepconv1[0][0]']        \n",
            " lization)                                                                                        \n",
            "                                                                                                  \n",
            " block4_sepconv2_act (Activatio  (None, 9, 9, 728)   0           ['block4_sepconv1_bn[0][0]']     \n",
            " n)                                                                                               \n",
            "                                                                                                  \n",
            " block4_sepconv2 (SeparableConv  (None, 9, 9, 728)   536536      ['block4_sepconv2_act[0][0]']    \n",
            " 2D)                                                                                              \n",
            "                                                                                                  \n",
            " block4_sepconv2_bn (BatchNorma  (None, 9, 9, 728)   2912        ['block4_sepconv2[0][0]']        \n",
            " lization)                                                                                        \n",
            "                                                                                                  \n",
            " conv2d_2 (Conv2D)              (None, 5, 5, 728)    186368      ['add_1[0][0]']                  \n",
            "                                                                                                  \n",
            " block4_pool (MaxPooling2D)     (None, 5, 5, 728)    0           ['block4_sepconv2_bn[0][0]']     \n",
            "                                                                                                  \n",
            " batch_normalization_2 (BatchNo  (None, 5, 5, 728)   2912        ['conv2d_2[0][0]']               \n",
            " rmalization)                                                                                     \n",
            "                                                                                                  \n",
            " add_2 (Add)                    (None, 5, 5, 728)    0           ['block4_pool[0][0]',            \n",
            "                                                                  'batch_normalization_2[0][0]']  \n",
            "                                                                                                  \n",
            " block5_sepconv1_act (Activatio  (None, 5, 5, 728)   0           ['add_2[0][0]']                  \n",
            " n)                                                                                               \n",
            "                                                                                                  \n",
            " block5_sepconv1 (SeparableConv  (None, 5, 5, 728)   536536      ['block5_sepconv1_act[0][0]']    \n",
            " 2D)                                                                                              \n",
            "                                                                                                  \n",
            " block5_sepconv1_bn (BatchNorma  (None, 5, 5, 728)   2912        ['block5_sepconv1[0][0]']        \n",
            " lization)                                                                                        \n",
            "                                                                                                  \n",
            " block5_sepconv2_act (Activatio  (None, 5, 5, 728)   0           ['block5_sepconv1_bn[0][0]']     \n",
            " n)                                                                                               \n",
            "                                                                                                  \n",
            " block5_sepconv2 (SeparableConv  (None, 5, 5, 728)   536536      ['block5_sepconv2_act[0][0]']    \n",
            " 2D)                                                                                              \n",
            "                                                                                                  \n",
            " block5_sepconv2_bn (BatchNorma  (None, 5, 5, 728)   2912        ['block5_sepconv2[0][0]']        \n",
            " lization)                                                                                        \n",
            "                                                                                                  \n",
            " block5_sepconv3_act (Activatio  (None, 5, 5, 728)   0           ['block5_sepconv2_bn[0][0]']     \n",
            " n)                                                                                               \n",
            "                                                                                                  \n",
            " block5_sepconv3 (SeparableConv  (None, 5, 5, 728)   536536      ['block5_sepconv3_act[0][0]']    \n",
            " 2D)                                                                                              \n",
            "                                                                                                  \n",
            " block5_sepconv3_bn (BatchNorma  (None, 5, 5, 728)   2912        ['block5_sepconv3[0][0]']        \n",
            " lization)                                                                                        \n",
            "                                                                                                  \n",
            " add_3 (Add)                    (None, 5, 5, 728)    0           ['block5_sepconv3_bn[0][0]',     \n",
            "                                                                  'add_2[0][0]']                  \n",
            "                                                                                                  \n",
            " block6_sepconv1_act (Activatio  (None, 5, 5, 728)   0           ['add_3[0][0]']                  \n",
            " n)                                                                                               \n",
            "                                                                                                  \n",
            " block6_sepconv1 (SeparableConv  (None, 5, 5, 728)   536536      ['block6_sepconv1_act[0][0]']    \n",
            " 2D)                                                                                              \n",
            "                                                                                                  \n",
            " block6_sepconv1_bn (BatchNorma  (None, 5, 5, 728)   2912        ['block6_sepconv1[0][0]']        \n",
            " lization)                                                                                        \n",
            "                                                                                                  \n",
            " block6_sepconv2_act (Activatio  (None, 5, 5, 728)   0           ['block6_sepconv1_bn[0][0]']     \n",
            " n)                                                                                               \n",
            "                                                                                                  \n",
            " block6_sepconv2 (SeparableConv  (None, 5, 5, 728)   536536      ['block6_sepconv2_act[0][0]']    \n",
            " 2D)                                                                                              \n",
            "                                                                                                  \n",
            " block6_sepconv2_bn (BatchNorma  (None, 5, 5, 728)   2912        ['block6_sepconv2[0][0]']        \n",
            " lization)                                                                                        \n",
            "                                                                                                  \n",
            " block6_sepconv3_act (Activatio  (None, 5, 5, 728)   0           ['block6_sepconv2_bn[0][0]']     \n",
            " n)                                                                                               \n",
            "                                                                                                  \n",
            " block6_sepconv3 (SeparableConv  (None, 5, 5, 728)   536536      ['block6_sepconv3_act[0][0]']    \n",
            " 2D)                                                                                              \n",
            "                                                                                                  \n",
            " block6_sepconv3_bn (BatchNorma  (None, 5, 5, 728)   2912        ['block6_sepconv3[0][0]']        \n",
            " lization)                                                                                        \n",
            "                                                                                                  \n",
            " add_4 (Add)                    (None, 5, 5, 728)    0           ['block6_sepconv3_bn[0][0]',     \n",
            "                                                                  'add_3[0][0]']                  \n",
            "                                                                                                  \n",
            " block7_sepconv1_act (Activatio  (None, 5, 5, 728)   0           ['add_4[0][0]']                  \n",
            " n)                                                                                               \n",
            "                                                                                                  \n",
            " block7_sepconv1 (SeparableConv  (None, 5, 5, 728)   536536      ['block7_sepconv1_act[0][0]']    \n",
            " 2D)                                                                                              \n",
            "                                                                                                  \n",
            " block7_sepconv1_bn (BatchNorma  (None, 5, 5, 728)   2912        ['block7_sepconv1[0][0]']        \n",
            " lization)                                                                                        \n",
            "                                                                                                  \n",
            " block7_sepconv2_act (Activatio  (None, 5, 5, 728)   0           ['block7_sepconv1_bn[0][0]']     \n",
            " n)                                                                                               \n",
            "                                                                                                  \n",
            " block7_sepconv2 (SeparableConv  (None, 5, 5, 728)   536536      ['block7_sepconv2_act[0][0]']    \n",
            " 2D)                                                                                              \n",
            "                                                                                                  \n",
            " block7_sepconv2_bn (BatchNorma  (None, 5, 5, 728)   2912        ['block7_sepconv2[0][0]']        \n",
            " lization)                                                                                        \n",
            "                                                                                                  \n",
            " block7_sepconv3_act (Activatio  (None, 5, 5, 728)   0           ['block7_sepconv2_bn[0][0]']     \n",
            " n)                                                                                               \n",
            "                                                                                                  \n",
            " block7_sepconv3 (SeparableConv  (None, 5, 5, 728)   536536      ['block7_sepconv3_act[0][0]']    \n",
            " 2D)                                                                                              \n",
            "                                                                                                  \n",
            " block7_sepconv3_bn (BatchNorma  (None, 5, 5, 728)   2912        ['block7_sepconv3[0][0]']        \n",
            " lization)                                                                                        \n",
            "                                                                                                  \n",
            " add_5 (Add)                    (None, 5, 5, 728)    0           ['block7_sepconv3_bn[0][0]',     \n",
            "                                                                  'add_4[0][0]']                  \n",
            "                                                                                                  \n",
            " block8_sepconv1_act (Activatio  (None, 5, 5, 728)   0           ['add_5[0][0]']                  \n",
            " n)                                                                                               \n",
            "                                                                                                  \n",
            " block8_sepconv1 (SeparableConv  (None, 5, 5, 728)   536536      ['block8_sepconv1_act[0][0]']    \n",
            " 2D)                                                                                              \n",
            "                                                                                                  \n",
            " block8_sepconv1_bn (BatchNorma  (None, 5, 5, 728)   2912        ['block8_sepconv1[0][0]']        \n",
            " lization)                                                                                        \n",
            "                                                                                                  \n",
            " block8_sepconv2_act (Activatio  (None, 5, 5, 728)   0           ['block8_sepconv1_bn[0][0]']     \n",
            " n)                                                                                               \n",
            "                                                                                                  \n",
            " block8_sepconv2 (SeparableConv  (None, 5, 5, 728)   536536      ['block8_sepconv2_act[0][0]']    \n",
            " 2D)                                                                                              \n",
            "                                                                                                  \n",
            " block8_sepconv2_bn (BatchNorma  (None, 5, 5, 728)   2912        ['block8_sepconv2[0][0]']        \n",
            " lization)                                                                                        \n",
            "                                                                                                  \n",
            " block8_sepconv3_act (Activatio  (None, 5, 5, 728)   0           ['block8_sepconv2_bn[0][0]']     \n",
            " n)                                                                                               \n",
            "                                                                                                  \n",
            " block8_sepconv3 (SeparableConv  (None, 5, 5, 728)   536536      ['block8_sepconv3_act[0][0]']    \n",
            " 2D)                                                                                              \n",
            "                                                                                                  \n",
            " block8_sepconv3_bn (BatchNorma  (None, 5, 5, 728)   2912        ['block8_sepconv3[0][0]']        \n",
            " lization)                                                                                        \n",
            "                                                                                                  \n",
            " add_6 (Add)                    (None, 5, 5, 728)    0           ['block8_sepconv3_bn[0][0]',     \n",
            "                                                                  'add_5[0][0]']                  \n",
            "                                                                                                  \n",
            " block9_sepconv1_act (Activatio  (None, 5, 5, 728)   0           ['add_6[0][0]']                  \n",
            " n)                                                                                               \n",
            "                                                                                                  \n",
            " block9_sepconv1 (SeparableConv  (None, 5, 5, 728)   536536      ['block9_sepconv1_act[0][0]']    \n",
            " 2D)                                                                                              \n",
            "                                                                                                  \n",
            " block9_sepconv1_bn (BatchNorma  (None, 5, 5, 728)   2912        ['block9_sepconv1[0][0]']        \n",
            " lization)                                                                                        \n",
            "                                                                                                  \n",
            " block9_sepconv2_act (Activatio  (None, 5, 5, 728)   0           ['block9_sepconv1_bn[0][0]']     \n",
            " n)                                                                                               \n",
            "                                                                                                  \n",
            " block9_sepconv2 (SeparableConv  (None, 5, 5, 728)   536536      ['block9_sepconv2_act[0][0]']    \n",
            " 2D)                                                                                              \n",
            "                                                                                                  \n",
            " block9_sepconv2_bn (BatchNorma  (None, 5, 5, 728)   2912        ['block9_sepconv2[0][0]']        \n",
            " lization)                                                                                        \n",
            "                                                                                                  \n",
            " block9_sepconv3_act (Activatio  (None, 5, 5, 728)   0           ['block9_sepconv2_bn[0][0]']     \n",
            " n)                                                                                               \n",
            "                                                                                                  \n",
            " block9_sepconv3 (SeparableConv  (None, 5, 5, 728)   536536      ['block9_sepconv3_act[0][0]']    \n",
            " 2D)                                                                                              \n",
            "                                                                                                  \n",
            " block9_sepconv3_bn (BatchNorma  (None, 5, 5, 728)   2912        ['block9_sepconv3[0][0]']        \n",
            " lization)                                                                                        \n",
            "                                                                                                  \n",
            " add_7 (Add)                    (None, 5, 5, 728)    0           ['block9_sepconv3_bn[0][0]',     \n",
            "                                                                  'add_6[0][0]']                  \n",
            "                                                                                                  \n",
            " block10_sepconv1_act (Activati  (None, 5, 5, 728)   0           ['add_7[0][0]']                  \n",
            " on)                                                                                              \n",
            "                                                                                                  \n",
            " block10_sepconv1 (SeparableCon  (None, 5, 5, 728)   536536      ['block10_sepconv1_act[0][0]']   \n",
            " v2D)                                                                                             \n",
            "                                                                                                  \n",
            " block10_sepconv1_bn (BatchNorm  (None, 5, 5, 728)   2912        ['block10_sepconv1[0][0]']       \n",
            " alization)                                                                                       \n",
            "                                                                                                  \n",
            " block10_sepconv2_act (Activati  (None, 5, 5, 728)   0           ['block10_sepconv1_bn[0][0]']    \n",
            " on)                                                                                              \n",
            "                                                                                                  \n",
            " block10_sepconv2 (SeparableCon  (None, 5, 5, 728)   536536      ['block10_sepconv2_act[0][0]']   \n",
            " v2D)                                                                                             \n",
            "                                                                                                  \n",
            " block10_sepconv2_bn (BatchNorm  (None, 5, 5, 728)   2912        ['block10_sepconv2[0][0]']       \n",
            " alization)                                                                                       \n",
            "                                                                                                  \n",
            " block10_sepconv3_act (Activati  (None, 5, 5, 728)   0           ['block10_sepconv2_bn[0][0]']    \n",
            " on)                                                                                              \n",
            "                                                                                                  \n",
            " block10_sepconv3 (SeparableCon  (None, 5, 5, 728)   536536      ['block10_sepconv3_act[0][0]']   \n",
            " v2D)                                                                                             \n",
            "                                                                                                  \n",
            " block10_sepconv3_bn (BatchNorm  (None, 5, 5, 728)   2912        ['block10_sepconv3[0][0]']       \n",
            " alization)                                                                                       \n",
            "                                                                                                  \n",
            " add_8 (Add)                    (None, 5, 5, 728)    0           ['block10_sepconv3_bn[0][0]',    \n",
            "                                                                  'add_7[0][0]']                  \n",
            "                                                                                                  \n",
            " block11_sepconv1_act (Activati  (None, 5, 5, 728)   0           ['add_8[0][0]']                  \n",
            " on)                                                                                              \n",
            "                                                                                                  \n",
            " block11_sepconv1 (SeparableCon  (None, 5, 5, 728)   536536      ['block11_sepconv1_act[0][0]']   \n",
            " v2D)                                                                                             \n",
            "                                                                                                  \n",
            " block11_sepconv1_bn (BatchNorm  (None, 5, 5, 728)   2912        ['block11_sepconv1[0][0]']       \n",
            " alization)                                                                                       \n",
            "                                                                                                  \n",
            " block11_sepconv2_act (Activati  (None, 5, 5, 728)   0           ['block11_sepconv1_bn[0][0]']    \n",
            " on)                                                                                              \n",
            "                                                                                                  \n",
            " block11_sepconv2 (SeparableCon  (None, 5, 5, 728)   536536      ['block11_sepconv2_act[0][0]']   \n",
            " v2D)                                                                                             \n",
            "                                                                                                  \n",
            " block11_sepconv2_bn (BatchNorm  (None, 5, 5, 728)   2912        ['block11_sepconv2[0][0]']       \n",
            " alization)                                                                                       \n",
            "                                                                                                  \n",
            " block11_sepconv3_act (Activati  (None, 5, 5, 728)   0           ['block11_sepconv2_bn[0][0]']    \n",
            " on)                                                                                              \n",
            "                                                                                                  \n",
            " block11_sepconv3 (SeparableCon  (None, 5, 5, 728)   536536      ['block11_sepconv3_act[0][0]']   \n",
            " v2D)                                                                                             \n",
            "                                                                                                  \n",
            " block11_sepconv3_bn (BatchNorm  (None, 5, 5, 728)   2912        ['block11_sepconv3[0][0]']       \n",
            " alization)                                                                                       \n",
            "                                                                                                  \n",
            " add_9 (Add)                    (None, 5, 5, 728)    0           ['block11_sepconv3_bn[0][0]',    \n",
            "                                                                  'add_8[0][0]']                  \n",
            "                                                                                                  \n",
            " block12_sepconv1_act (Activati  (None, 5, 5, 728)   0           ['add_9[0][0]']                  \n",
            " on)                                                                                              \n",
            "                                                                                                  \n",
            " block12_sepconv1 (SeparableCon  (None, 5, 5, 728)   536536      ['block12_sepconv1_act[0][0]']   \n",
            " v2D)                                                                                             \n",
            "                                                                                                  \n",
            " block12_sepconv1_bn (BatchNorm  (None, 5, 5, 728)   2912        ['block12_sepconv1[0][0]']       \n",
            " alization)                                                                                       \n",
            "                                                                                                  \n",
            " block12_sepconv2_act (Activati  (None, 5, 5, 728)   0           ['block12_sepconv1_bn[0][0]']    \n",
            " on)                                                                                              \n",
            "                                                                                                  \n",
            " block12_sepconv2 (SeparableCon  (None, 5, 5, 728)   536536      ['block12_sepconv2_act[0][0]']   \n",
            " v2D)                                                                                             \n",
            "                                                                                                  \n",
            " block12_sepconv2_bn (BatchNorm  (None, 5, 5, 728)   2912        ['block12_sepconv2[0][0]']       \n",
            " alization)                                                                                       \n",
            "                                                                                                  \n",
            " block12_sepconv3_act (Activati  (None, 5, 5, 728)   0           ['block12_sepconv2_bn[0][0]']    \n",
            " on)                                                                                              \n",
            "                                                                                                  \n",
            " block12_sepconv3 (SeparableCon  (None, 5, 5, 728)   536536      ['block12_sepconv3_act[0][0]']   \n",
            " v2D)                                                                                             \n",
            "                                                                                                  \n",
            " block12_sepconv3_bn (BatchNorm  (None, 5, 5, 728)   2912        ['block12_sepconv3[0][0]']       \n",
            " alization)                                                                                       \n",
            "                                                                                                  \n",
            " add_10 (Add)                   (None, 5, 5, 728)    0           ['block12_sepconv3_bn[0][0]',    \n",
            "                                                                  'add_9[0][0]']                  \n",
            "                                                                                                  \n",
            " block13_sepconv1_act (Activati  (None, 5, 5, 728)   0           ['add_10[0][0]']                 \n",
            " on)                                                                                              \n",
            "                                                                                                  \n",
            " block13_sepconv1 (SeparableCon  (None, 5, 5, 728)   536536      ['block13_sepconv1_act[0][0]']   \n",
            " v2D)                                                                                             \n",
            "                                                                                                  \n",
            " block13_sepconv1_bn (BatchNorm  (None, 5, 5, 728)   2912        ['block13_sepconv1[0][0]']       \n",
            " alization)                                                                                       \n",
            "                                                                                                  \n",
            " block13_sepconv2_act (Activati  (None, 5, 5, 728)   0           ['block13_sepconv1_bn[0][0]']    \n",
            " on)                                                                                              \n",
            "                                                                                                  \n",
            " block13_sepconv2 (SeparableCon  (None, 5, 5, 1024)  752024      ['block13_sepconv2_act[0][0]']   \n",
            " v2D)                                                                                             \n",
            "                                                                                                  \n",
            " block13_sepconv2_bn (BatchNorm  (None, 5, 5, 1024)  4096        ['block13_sepconv2[0][0]']       \n",
            " alization)                                                                                       \n",
            "                                                                                                  \n",
            " conv2d_3 (Conv2D)              (None, 3, 3, 1024)   745472      ['add_10[0][0]']                 \n",
            "                                                                                                  \n",
            " block13_pool (MaxPooling2D)    (None, 3, 3, 1024)   0           ['block13_sepconv2_bn[0][0]']    \n",
            "                                                                                                  \n",
            " batch_normalization_3 (BatchNo  (None, 3, 3, 1024)  4096        ['conv2d_3[0][0]']               \n",
            " rmalization)                                                                                     \n",
            "                                                                                                  \n",
            " add_11 (Add)                   (None, 3, 3, 1024)   0           ['block13_pool[0][0]',           \n",
            "                                                                  'batch_normalization_3[0][0]']  \n",
            "                                                                                                  \n",
            " block14_sepconv1 (SeparableCon  (None, 3, 3, 1536)  1582080     ['add_11[0][0]']                 \n",
            " v2D)                                                                                             \n",
            "                                                                                                  \n",
            " block14_sepconv1_bn (BatchNorm  (None, 3, 3, 1536)  6144        ['block14_sepconv1[0][0]']       \n",
            " alization)                                                                                       \n",
            "                                                                                                  \n",
            " block14_sepconv1_act (Activati  (None, 3, 3, 1536)  0           ['block14_sepconv1_bn[0][0]']    \n",
            " on)                                                                                              \n",
            "                                                                                                  \n",
            " block14_sepconv2 (SeparableCon  (None, 3, 3, 2048)  3159552     ['block14_sepconv1_act[0][0]']   \n",
            " v2D)                                                                                             \n",
            "                                                                                                  \n",
            " block14_sepconv2_bn (BatchNorm  (None, 3, 3, 2048)  8192        ['block14_sepconv2[0][0]']       \n",
            " alization)                                                                                       \n",
            "                                                                                                  \n",
            " block14_sepconv2_act (Activati  (None, 3, 3, 2048)  0           ['block14_sepconv2_bn[0][0]']    \n",
            " on)                                                                                              \n",
            "                                                                                                  \n",
            "==================================================================================================\n",
            "Total params: 20,861,480\n",
            "Trainable params: 20,806,952\n",
            "Non-trainable params: 54,528\n",
            "__________________________________________________________________________________________________\n"
          ]
        }
      ]
    },
    {
      "cell_type": "markdown",
      "source": [
        "Output shape får sitt minsta värde vid conv2D_3, men vid conv2D_2 så går den länge på output =(5,5,728) så väljer det lagret. Efter att ha testat några modeller väljer jag att utgå från block5_sepconv1 istället för att få fler parametrar från xception-modellen men samtidigt inte använda alla 126 lager."
      ],
      "metadata": {
        "id": "GYwZWlb1HQz4"
      }
    },
    {
      "cell_type": "code",
      "source": [
        "# Väljer ut output vid conv2D_3\n",
        "X_model = tf.keras.models.Model(inputs=Xception_model.inputs, outputs=Xception_model.get_layer('block5_sepconv1').output )"
      ],
      "metadata": {
        "id": "E_dO0qbNGecc"
      },
      "execution_count": null,
      "outputs": []
    },
    {
      "cell_type": "code",
      "source": [
        "X_model.summary()"
      ],
      "metadata": {
        "colab": {
          "base_uri": "https://localhost:8080/"
        },
        "id": "ojtNB6lkLXaY",
        "outputId": "a99e0c39-944b-4e96-da00-07b83049a936"
      },
      "execution_count": null,
      "outputs": [
        {
          "output_type": "stream",
          "name": "stdout",
          "text": [
            "Model: \"model_19\"\n",
            "__________________________________________________________________________________________________\n",
            " Layer (type)                   Output Shape         Param #     Connected to                     \n",
            "==================================================================================================\n",
            " input_1 (InputLayer)           [(None, 72, 72, 3)]  0           []                               \n",
            "                                                                                                  \n",
            " block1_conv1 (Conv2D)          (None, 35, 35, 32)   864         ['input_1[0][0]']                \n",
            "                                                                                                  \n",
            " block1_conv1_bn (BatchNormaliz  (None, 35, 35, 32)  128         ['block1_conv1[0][0]']           \n",
            " ation)                                                                                           \n",
            "                                                                                                  \n",
            " block1_conv1_act (Activation)  (None, 35, 35, 32)   0           ['block1_conv1_bn[0][0]']        \n",
            "                                                                                                  \n",
            " block1_conv2 (Conv2D)          (None, 33, 33, 64)   18432       ['block1_conv1_act[0][0]']       \n",
            "                                                                                                  \n",
            " block1_conv2_bn (BatchNormaliz  (None, 33, 33, 64)  256         ['block1_conv2[0][0]']           \n",
            " ation)                                                                                           \n",
            "                                                                                                  \n",
            " block1_conv2_act (Activation)  (None, 33, 33, 64)   0           ['block1_conv2_bn[0][0]']        \n",
            "                                                                                                  \n",
            " block2_sepconv1 (SeparableConv  (None, 33, 33, 128)  8768       ['block1_conv2_act[0][0]']       \n",
            " 2D)                                                                                              \n",
            "                                                                                                  \n",
            " block2_sepconv1_bn (BatchNorma  (None, 33, 33, 128)  512        ['block2_sepconv1[0][0]']        \n",
            " lization)                                                                                        \n",
            "                                                                                                  \n",
            " block2_sepconv2_act (Activatio  (None, 33, 33, 128)  0          ['block2_sepconv1_bn[0][0]']     \n",
            " n)                                                                                               \n",
            "                                                                                                  \n",
            " block2_sepconv2 (SeparableConv  (None, 33, 33, 128)  17536      ['block2_sepconv2_act[0][0]']    \n",
            " 2D)                                                                                              \n",
            "                                                                                                  \n",
            " block2_sepconv2_bn (BatchNorma  (None, 33, 33, 128)  512        ['block2_sepconv2[0][0]']        \n",
            " lization)                                                                                        \n",
            "                                                                                                  \n",
            " conv2d (Conv2D)                (None, 17, 17, 128)  8192        ['block1_conv2_act[0][0]']       \n",
            "                                                                                                  \n",
            " block2_pool (MaxPooling2D)     (None, 17, 17, 128)  0           ['block2_sepconv2_bn[0][0]']     \n",
            "                                                                                                  \n",
            " batch_normalization (BatchNorm  (None, 17, 17, 128)  512        ['conv2d[0][0]']                 \n",
            " alization)                                                                                       \n",
            "                                                                                                  \n",
            " add (Add)                      (None, 17, 17, 128)  0           ['block2_pool[0][0]',            \n",
            "                                                                  'batch_normalization[0][0]']    \n",
            "                                                                                                  \n",
            " block3_sepconv1_act (Activatio  (None, 17, 17, 128)  0          ['add[0][0]']                    \n",
            " n)                                                                                               \n",
            "                                                                                                  \n",
            " block3_sepconv1 (SeparableConv  (None, 17, 17, 256)  33920      ['block3_sepconv1_act[0][0]']    \n",
            " 2D)                                                                                              \n",
            "                                                                                                  \n",
            " block3_sepconv1_bn (BatchNorma  (None, 17, 17, 256)  1024       ['block3_sepconv1[0][0]']        \n",
            " lization)                                                                                        \n",
            "                                                                                                  \n",
            " block3_sepconv2_act (Activatio  (None, 17, 17, 256)  0          ['block3_sepconv1_bn[0][0]']     \n",
            " n)                                                                                               \n",
            "                                                                                                  \n",
            " block3_sepconv2 (SeparableConv  (None, 17, 17, 256)  67840      ['block3_sepconv2_act[0][0]']    \n",
            " 2D)                                                                                              \n",
            "                                                                                                  \n",
            " block3_sepconv2_bn (BatchNorma  (None, 17, 17, 256)  1024       ['block3_sepconv2[0][0]']        \n",
            " lization)                                                                                        \n",
            "                                                                                                  \n",
            " conv2d_1 (Conv2D)              (None, 9, 9, 256)    32768       ['add[0][0]']                    \n",
            "                                                                                                  \n",
            " block3_pool (MaxPooling2D)     (None, 9, 9, 256)    0           ['block3_sepconv2_bn[0][0]']     \n",
            "                                                                                                  \n",
            " batch_normalization_1 (BatchNo  (None, 9, 9, 256)   1024        ['conv2d_1[0][0]']               \n",
            " rmalization)                                                                                     \n",
            "                                                                                                  \n",
            " add_1 (Add)                    (None, 9, 9, 256)    0           ['block3_pool[0][0]',            \n",
            "                                                                  'batch_normalization_1[0][0]']  \n",
            "                                                                                                  \n",
            " block4_sepconv1_act (Activatio  (None, 9, 9, 256)   0           ['add_1[0][0]']                  \n",
            " n)                                                                                               \n",
            "                                                                                                  \n",
            " block4_sepconv1 (SeparableConv  (None, 9, 9, 728)   188672      ['block4_sepconv1_act[0][0]']    \n",
            " 2D)                                                                                              \n",
            "                                                                                                  \n",
            " block4_sepconv1_bn (BatchNorma  (None, 9, 9, 728)   2912        ['block4_sepconv1[0][0]']        \n",
            " lization)                                                                                        \n",
            "                                                                                                  \n",
            " block4_sepconv2_act (Activatio  (None, 9, 9, 728)   0           ['block4_sepconv1_bn[0][0]']     \n",
            " n)                                                                                               \n",
            "                                                                                                  \n",
            " block4_sepconv2 (SeparableConv  (None, 9, 9, 728)   536536      ['block4_sepconv2_act[0][0]']    \n",
            " 2D)                                                                                              \n",
            "                                                                                                  \n",
            " block4_sepconv2_bn (BatchNorma  (None, 9, 9, 728)   2912        ['block4_sepconv2[0][0]']        \n",
            " lization)                                                                                        \n",
            "                                                                                                  \n",
            " conv2d_2 (Conv2D)              (None, 5, 5, 728)    186368      ['add_1[0][0]']                  \n",
            "                                                                                                  \n",
            " block4_pool (MaxPooling2D)     (None, 5, 5, 728)    0           ['block4_sepconv2_bn[0][0]']     \n",
            "                                                                                                  \n",
            " batch_normalization_2 (BatchNo  (None, 5, 5, 728)   2912        ['conv2d_2[0][0]']               \n",
            " rmalization)                                                                                     \n",
            "                                                                                                  \n",
            " add_2 (Add)                    (None, 5, 5, 728)    0           ['block4_pool[0][0]',            \n",
            "                                                                  'batch_normalization_2[0][0]']  \n",
            "                                                                                                  \n",
            " block5_sepconv1_act (Activatio  (None, 5, 5, 728)   0           ['add_2[0][0]']                  \n",
            " n)                                                                                               \n",
            "                                                                                                  \n",
            " block5_sepconv1 (SeparableConv  (None, 5, 5, 728)   536536      ['block5_sepconv1_act[0][0]']    \n",
            " 2D)                                                                                              \n",
            "                                                                                                  \n",
            "==================================================================================================\n",
            "Total params: 1,650,160\n",
            "Trainable params: 0\n",
            "Non-trainable params: 1,650,160\n",
            "__________________________________________________________________________________________________\n"
          ]
        }
      ]
    },
    {
      "cell_type": "markdown",
      "source": [
        "Modellen jag utgår ifrån har ca 1,650,160  parametrar innan jag lägger in fler lager."
      ],
      "metadata": {
        "id": "Q8WxJ721ZIXO"
      }
    },
    {
      "cell_type": "code",
      "source": [
        "# Väljer ut output vid conv2D_3\n",
        "inputs = Xception_model.inputs\n",
        "\n",
        "X = Xception_model.get_layer('block5_sepconv1').output\n",
        "\n",
        "\n",
        "\n",
        "# Lägger till egna lager som ska tränas\n",
        "X= tf.keras.layers.BatchNormalization(axis=-1)(X) # normaliserar inputs\n",
        "X= (Dropout(0.2))(X) # Dropout på 20% av noderna på faltningslagret som skapas nedan\n",
        "X=(Conv2D(filters=96,\n",
        "                        kernel_size=5,\n",
        "                        activation='relu',\n",
        "                        padding='same'))(X)\n",
        "\n",
        "X=(tf.keras.layers.Flatten())(X) # Ser till så lagren är 'full connected'\n",
        "# X_model.add(tf.keras.layers.Dense(294,activation='relu'))# Lägger in 2 gömda lager med olika antal noder\n",
        "X=(tf.keras.layers.Dense(64,activation='relu'))(X)\n",
        "outputs=(Dense(units=10, activation='softmax'))(X) #sista lagret\n",
        "\n",
        "\n",
        "X_model = tf.keras.models.Model(inputs=inputs, outputs=outputs)\n",
        "# Freeze the layers\n",
        "for layer in X_model.layers[:-6]:\n",
        "    layer.trainable = False\n",
        "\n",
        "X_model.summary()\n"
      ],
      "metadata": {
        "id": "Txa_vT-R3v9h",
        "colab": {
          "base_uri": "https://localhost:8080/"
        },
        "outputId": "1c628f11-e2ca-4372-8ceb-c006074c60d1"
      },
      "execution_count": null,
      "outputs": [
        {
          "output_type": "stream",
          "name": "stdout",
          "text": [
            "Model: \"model_23\"\n",
            "__________________________________________________________________________________________________\n",
            " Layer (type)                   Output Shape         Param #     Connected to                     \n",
            "==================================================================================================\n",
            " input_1 (InputLayer)           [(None, 72, 72, 3)]  0           []                               \n",
            "                                                                                                  \n",
            " block1_conv1 (Conv2D)          (None, 35, 35, 32)   864         ['input_1[0][0]']                \n",
            "                                                                                                  \n",
            " block1_conv1_bn (BatchNormaliz  (None, 35, 35, 32)  128         ['block1_conv1[0][0]']           \n",
            " ation)                                                                                           \n",
            "                                                                                                  \n",
            " block1_conv1_act (Activation)  (None, 35, 35, 32)   0           ['block1_conv1_bn[0][0]']        \n",
            "                                                                                                  \n",
            " block1_conv2 (Conv2D)          (None, 33, 33, 64)   18432       ['block1_conv1_act[0][0]']       \n",
            "                                                                                                  \n",
            " block1_conv2_bn (BatchNormaliz  (None, 33, 33, 64)  256         ['block1_conv2[0][0]']           \n",
            " ation)                                                                                           \n",
            "                                                                                                  \n",
            " block1_conv2_act (Activation)  (None, 33, 33, 64)   0           ['block1_conv2_bn[0][0]']        \n",
            "                                                                                                  \n",
            " block2_sepconv1 (SeparableConv  (None, 33, 33, 128)  8768       ['block1_conv2_act[0][0]']       \n",
            " 2D)                                                                                              \n",
            "                                                                                                  \n",
            " block2_sepconv1_bn (BatchNorma  (None, 33, 33, 128)  512        ['block2_sepconv1[0][0]']        \n",
            " lization)                                                                                        \n",
            "                                                                                                  \n",
            " block2_sepconv2_act (Activatio  (None, 33, 33, 128)  0          ['block2_sepconv1_bn[0][0]']     \n",
            " n)                                                                                               \n",
            "                                                                                                  \n",
            " block2_sepconv2 (SeparableConv  (None, 33, 33, 128)  17536      ['block2_sepconv2_act[0][0]']    \n",
            " 2D)                                                                                              \n",
            "                                                                                                  \n",
            " block2_sepconv2_bn (BatchNorma  (None, 33, 33, 128)  512        ['block2_sepconv2[0][0]']        \n",
            " lization)                                                                                        \n",
            "                                                                                                  \n",
            " conv2d (Conv2D)                (None, 17, 17, 128)  8192        ['block1_conv2_act[0][0]']       \n",
            "                                                                                                  \n",
            " block2_pool (MaxPooling2D)     (None, 17, 17, 128)  0           ['block2_sepconv2_bn[0][0]']     \n",
            "                                                                                                  \n",
            " batch_normalization (BatchNorm  (None, 17, 17, 128)  512        ['conv2d[0][0]']                 \n",
            " alization)                                                                                       \n",
            "                                                                                                  \n",
            " add (Add)                      (None, 17, 17, 128)  0           ['block2_pool[0][0]',            \n",
            "                                                                  'batch_normalization[0][0]']    \n",
            "                                                                                                  \n",
            " block3_sepconv1_act (Activatio  (None, 17, 17, 128)  0          ['add[0][0]']                    \n",
            " n)                                                                                               \n",
            "                                                                                                  \n",
            " block3_sepconv1 (SeparableConv  (None, 17, 17, 256)  33920      ['block3_sepconv1_act[0][0]']    \n",
            " 2D)                                                                                              \n",
            "                                                                                                  \n",
            " block3_sepconv1_bn (BatchNorma  (None, 17, 17, 256)  1024       ['block3_sepconv1[0][0]']        \n",
            " lization)                                                                                        \n",
            "                                                                                                  \n",
            " block3_sepconv2_act (Activatio  (None, 17, 17, 256)  0          ['block3_sepconv1_bn[0][0]']     \n",
            " n)                                                                                               \n",
            "                                                                                                  \n",
            " block3_sepconv2 (SeparableConv  (None, 17, 17, 256)  67840      ['block3_sepconv2_act[0][0]']    \n",
            " 2D)                                                                                              \n",
            "                                                                                                  \n",
            " block3_sepconv2_bn (BatchNorma  (None, 17, 17, 256)  1024       ['block3_sepconv2[0][0]']        \n",
            " lization)                                                                                        \n",
            "                                                                                                  \n",
            " conv2d_1 (Conv2D)              (None, 9, 9, 256)    32768       ['add[0][0]']                    \n",
            "                                                                                                  \n",
            " block3_pool (MaxPooling2D)     (None, 9, 9, 256)    0           ['block3_sepconv2_bn[0][0]']     \n",
            "                                                                                                  \n",
            " batch_normalization_1 (BatchNo  (None, 9, 9, 256)   1024        ['conv2d_1[0][0]']               \n",
            " rmalization)                                                                                     \n",
            "                                                                                                  \n",
            " add_1 (Add)                    (None, 9, 9, 256)    0           ['block3_pool[0][0]',            \n",
            "                                                                  'batch_normalization_1[0][0]']  \n",
            "                                                                                                  \n",
            " block4_sepconv1_act (Activatio  (None, 9, 9, 256)   0           ['add_1[0][0]']                  \n",
            " n)                                                                                               \n",
            "                                                                                                  \n",
            " block4_sepconv1 (SeparableConv  (None, 9, 9, 728)   188672      ['block4_sepconv1_act[0][0]']    \n",
            " 2D)                                                                                              \n",
            "                                                                                                  \n",
            " block4_sepconv1_bn (BatchNorma  (None, 9, 9, 728)   2912        ['block4_sepconv1[0][0]']        \n",
            " lization)                                                                                        \n",
            "                                                                                                  \n",
            " block4_sepconv2_act (Activatio  (None, 9, 9, 728)   0           ['block4_sepconv1_bn[0][0]']     \n",
            " n)                                                                                               \n",
            "                                                                                                  \n",
            " block4_sepconv2 (SeparableConv  (None, 9, 9, 728)   536536      ['block4_sepconv2_act[0][0]']    \n",
            " 2D)                                                                                              \n",
            "                                                                                                  \n",
            " block4_sepconv2_bn (BatchNorma  (None, 9, 9, 728)   2912        ['block4_sepconv2[0][0]']        \n",
            " lization)                                                                                        \n",
            "                                                                                                  \n",
            " conv2d_2 (Conv2D)              (None, 5, 5, 728)    186368      ['add_1[0][0]']                  \n",
            "                                                                                                  \n",
            " block4_pool (MaxPooling2D)     (None, 5, 5, 728)    0           ['block4_sepconv2_bn[0][0]']     \n",
            "                                                                                                  \n",
            " batch_normalization_2 (BatchNo  (None, 5, 5, 728)   2912        ['conv2d_2[0][0]']               \n",
            " rmalization)                                                                                     \n",
            "                                                                                                  \n",
            " add_2 (Add)                    (None, 5, 5, 728)    0           ['block4_pool[0][0]',            \n",
            "                                                                  'batch_normalization_2[0][0]']  \n",
            "                                                                                                  \n",
            " block5_sepconv1_act (Activatio  (None, 5, 5, 728)   0           ['add_2[0][0]']                  \n",
            " n)                                                                                               \n",
            "                                                                                                  \n",
            " block5_sepconv1 (SeparableConv  (None, 5, 5, 728)   536536      ['block5_sepconv1_act[0][0]']    \n",
            " 2D)                                                                                              \n",
            "                                                                                                  \n",
            " batch_normalization_9 (BatchNo  (None, 5, 5, 728)   2912        ['block5_sepconv1[0][0]']        \n",
            " rmalization)                                                                                     \n",
            "                                                                                                  \n",
            " dropout_16 (Dropout)           (None, 5, 5, 728)    0           ['batch_normalization_9[0][0]']  \n",
            "                                                                                                  \n",
            " conv2d_20 (Conv2D)             (None, 5, 5, 96)     1747296     ['dropout_16[0][0]']             \n",
            "                                                                                                  \n",
            " flatten_16 (Flatten)           (None, 2400)         0           ['conv2d_20[0][0]']              \n",
            "                                                                                                  \n",
            " dense_32 (Dense)               (None, 64)           153664      ['flatten_16[0][0]']             \n",
            "                                                                                                  \n",
            " dense_33 (Dense)               (None, 10)           650         ['dense_32[0][0]']               \n",
            "                                                                                                  \n",
            "==================================================================================================\n",
            "Total params: 3,554,682\n",
            "Trainable params: 1,903,066\n",
            "Non-trainable params: 1,651,616\n",
            "__________________________________________________________________________________________________\n"
          ]
        }
      ]
    },
    {
      "cell_type": "markdown",
      "source": [
        "Modellen har 1,651,616 parametrar som inte tränas och runt 3.5 miljoner totalt, så om jag kör med samma storlek på lagren som i tidigare uppgifter utgör nu mina tillagda lager en stor del av alla parametrar i modellen. Bör här möjligtvis minska mina lager något men väljer att köra på med samma tillagda lager för att utvärdera de inlästa modellerna snarare än mina lager.\n",
        "\n",
        "\n",
        " Valde antalet lager efter att titta på hur outputen såg ut och valde ett lager med liten output där outputen inte förändrades på länge."
      ],
      "metadata": {
        "id": "Gp1EGWCoOpRL"
      }
    },
    {
      "cell_type": "code",
      "source": [
        "X_model.compile(\n",
        "  optimizer=tf.keras.optimizers.Adam(learning_rate=0.001),\n",
        "  loss='categorical_crossentropy',\n",
        "  metrics=['categorical_accuracy'],\n",
        "\n",
        ")\n",
        "\n",
        "\n",
        "epochs = 50 # Antal epoker som kan köras\n",
        "batch_size = 96 # batchstoleken\n",
        "\n",
        "# Train the model.\n",
        "history = X_model.fit(\n",
        "  train_images, to_categorical(train_labels),\n",
        "  epochs=epochs,\n",
        "  batch_size=batch_size,\n",
        "  verbose = 1,\n",
        "  validation_data=(val_images, to_categorical(val_labels)),\n",
        "  callbacks=[earlystop] # Lägger in earlystopping i träningen\n",
        ")\n",
        "\n",
        "# Evaluate the model.\n",
        "test_loss, test_acc = X_model.evaluate(test_images,to_categorical(test_labels))\n",
        "print('Test accuracy: %.3f' % test_acc)"
      ],
      "metadata": {
        "colab": {
          "base_uri": "https://localhost:8080/"
        },
        "id": "2YMbFPcXEsih",
        "outputId": "4bd3ebdc-16c0-4a18-ac45-8a7522896a8f"
      },
      "execution_count": null,
      "outputs": [
        {
          "output_type": "stream",
          "name": "stdout",
          "text": [
            "Epoch 1/50\n",
            "500/500 [==============================] - 20s 35ms/step - loss: 0.3586 - categorical_accuracy: 0.8800 - val_loss: 0.2405 - val_categorical_accuracy: 0.9172\n",
            "Epoch 2/50\n",
            "500/500 [==============================] - 20s 40ms/step - loss: 0.2155 - categorical_accuracy: 0.9212 - val_loss: 0.2050 - val_categorical_accuracy: 0.9293\n",
            "Epoch 3/50\n",
            "500/500 [==============================] - 17s 34ms/step - loss: 0.1815 - categorical_accuracy: 0.9342 - val_loss: 0.2383 - val_categorical_accuracy: 0.9197\n",
            "Epoch 4/50\n",
            "500/500 [==============================] - 17s 35ms/step - loss: 0.1591 - categorical_accuracy: 0.9417 - val_loss: 0.2065 - val_categorical_accuracy: 0.9293\n",
            "Epoch 5/50\n",
            "500/500 [==============================] - 17s 34ms/step - loss: 0.1418 - categorical_accuracy: 0.9480 - val_loss: 0.1976 - val_categorical_accuracy: 0.9336\n",
            "Epoch 6/50\n",
            "500/500 [==============================] - 17s 34ms/step - loss: 0.1311 - categorical_accuracy: 0.9521 - val_loss: 0.2159 - val_categorical_accuracy: 0.9302\n",
            "Epoch 7/50\n",
            "500/500 [==============================] - 17s 34ms/step - loss: 0.1181 - categorical_accuracy: 0.9559 - val_loss: 0.2117 - val_categorical_accuracy: 0.9328\n",
            "Epoch 8/50\n",
            "500/500 [==============================] - 17s 34ms/step - loss: 0.1039 - categorical_accuracy: 0.9615 - val_loss: 0.2003 - val_categorical_accuracy: 0.9369\n",
            "313/313 [==============================] - 4s 11ms/step - loss: 0.2185 - categorical_accuracy: 0.9306\n",
            "Test accuracy: 0.931\n"
          ]
        }
      ]
    },
    {
      "cell_type": "markdown",
      "source": [
        "Modellen tränas i 8 epoker och får en testnoggrannhet på 93.1% och är således den bästa modellen av de jag skapat i labben.\n"
      ],
      "metadata": {
        "id": "0yBqNuXG5Tu9"
      }
    }
  ]
}